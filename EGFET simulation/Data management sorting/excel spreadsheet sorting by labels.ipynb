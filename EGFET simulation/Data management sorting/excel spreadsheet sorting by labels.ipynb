{
 "cells": [
  {
   "cell_type": "code",
   "execution_count": 18,
   "id": "cc957962",
   "metadata": {},
   "outputs": [
    {
     "name": "stdout",
     "output_type": "stream",
     "text": [
      "✅ Sorted by label, preserved blanks at end, saved to: E:\\Data management for vscode\\EGFET\\Go-EGFET under 0.1XPBS\\sorted_by_concentration.xlsx\n"
     ]
    }
   ],
   "source": [
    "import pandas as pd\n",
    "\n",
    "# === Step 1: Load Excel file ===\n",
    "file_path = r\"E:\\Data management for vscode\\EGFET\\Go-EGFET under 0.1XPBS\\Book701XPBS.xlsx\"\n",
    "output_path = r\"E:\\Data management for vscode\\EGFET\\Go-EGFET under 0.1XPBS\\sorted_by_concentration.xlsx\"\n",
    "\n",
    "# Define your desired label sort order\n",
    "custom_order = ['baseline', '1 fM',  '10 fM', '100 fM', '1 pM', '10 pM', '100 pM',\n",
    "                '1 nM', '10 nM', '100 nM', '1 uM', '10 uM']\n",
    "\n",
    "# Read the Excel file with no headers\n",
    "df = pd.read_excel(file_path, header=None)\n",
    "\n",
    "# Extract the 3rd row for sorting (index 2)\n",
    "third_row = df.iloc[2]\n",
    "\n",
    "# Prepare two column groups: ordered and blank\n",
    "sorted_col_indices = []\n",
    "blank_col_indices = []\n",
    "\n",
    "for label in custom_order:\n",
    "    matching = third_row[third_row == label].index.tolist()\n",
    "    sorted_col_indices.extend(matching)\n",
    "\n",
    "# Now collect columns where the label is empty string or NaN\n",
    "blank_col_indices = third_row[third_row.isna() | (third_row == '')].index.tolist()\n",
    "\n",
    "# Also preserve any remaining columns not in custom_order or blank\n",
    "remaining_col_indices = third_row.index.difference(sorted_col_indices + blank_col_indices)\n",
    "\n",
    "# Combine: ordered + remaining + blank at the end\n",
    "final_col_order = sorted_col_indices + list(remaining_col_indices) + blank_col_indices\n",
    "\n",
    "# Reorder dataframe\n",
    "df_final_sorted = df[final_col_order]\n",
    "\n",
    "# Save the result\n",
    "df_final_sorted.to_excel(output_path, index=False, header=False)\n",
    "\n",
    "print(\"✅ Sorted by label, preserved blanks at end, saved to:\", output_path)\n"
   ]
  }
 ],
 "metadata": {
  "kernelspec": {
   "display_name": "Python 3",
   "language": "python",
   "name": "python3"
  },
  "language_info": {
   "codemirror_mode": {
    "name": "ipython",
    "version": 3
   },
   "file_extension": ".py",
   "mimetype": "text/x-python",
   "name": "python",
   "nbconvert_exporter": "python",
   "pygments_lexer": "ipython3",
   "version": "3.13.3"
  }
 },
 "nbformat": 4,
 "nbformat_minor": 5
}
